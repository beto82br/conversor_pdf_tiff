{
 "cells": [
  {
   "cell_type": "code",
   "execution_count": null,
   "id": "e72242d2-6be3-4be0-8073-8e4cdf78a0e2",
   "metadata": {},
   "outputs": [],
   "source": [
    "# Conversao_PDF_TIFF\n",
    "# Script que realiza conversão de arquivos PDF,JPG,JPEG,PNG E BMP para TIFF\n",
    "# 17/04/2023 - Roberto Brito"
   ]
  },
  {
   "cell_type": "code",
   "execution_count": null,
   "id": "6e9cc295-83d8-4be2-8902-c59548e719b9",
   "metadata": {},
   "outputs": [],
   "source": [
    "import os\n",
    "from PIL import Image\n",
    "\n",
    "input_dir = '' # ex: C:/Users/PDF_Emails\n",
    "output_dir = '' # ex: C:/Users/PDF_Separados\n",
    "\n",
    "# percorre todos os arquivos no diretório de entrada\n",
    "for filename in os.listdir(input_dir):\n",
    "    input_path = os.path.join(input_dir, filename)\n",
    "    output_prefix = os.path.splitext(filename)[0]\n",
    "    # verifica se o arquivo é uma imagem suportada\n",
    "    if filename.endswith(('.jpg', '.jpeg', '.png', '.bmp')):\n",
    "        # abre a imagem e converte para PDF\n",
    "        with Image.open(input_path) as img:\n",
    "            output_pdf_path = os.path.join(output_dir, f'{output_prefix}.pdf')\n",
    "            img.save(output_pdf_path, format='PDF', resolution=300.0)\n",
    "            print(filename, \" - Arquivo convertido para PDF com sucesso\")\n"
   ]
  },
  {
   "cell_type": "code",
   "execution_count": null,
   "id": "95fa7d12-592a-4840-8754-033be9639a04",
   "metadata": {},
   "outputs": [],
   "source": [
    "import os\n",
    "from PyPDF2 import PdfFileReader, PdfFileWriter, PdfReader, PdfWriter\n",
    "\n",
    "input_dir = '' # ex: C:/Users/PDF_Emails\n",
    "output_dir = '' # ex: C:/Users/PDF_Separados\n",
    "\n",
    "# percorre todos os arquivos PDF no diretório de entrada\n",
    "for filename in os.listdir(input_dir):\n",
    "    if filename.endswith('.pdf'):\n",
    "        input_path = os.path.join(input_dir, filename)\n",
    "        output_prefix = os.path.splitext(filename)[0]\n",
    "        with open(input_path, 'rb') as input_file:\n",
    "            pdf = PdfReader(input_file)\n",
    "            for page_num in range(len(pdf.pages)):\n",
    "                # separa a página em um novo arquivo PDF\n",
    "                output_path = os.path.join(output_dir, f'{output_prefix}_page{page_num+1}.pdf')\n",
    "                with open(output_path, 'wb') as output_file:\n",
    "                    pdf_writer = PdfWriter()\n",
    "                    pdf_writer.add_page(pdf.pages[page_num])\n",
    "                    pdf_writer.write(output_file)\n",
    "                    print(filename, \" - PDF separado com sucesso\")\n",
    "                    "
   ]
  },
  {
   "cell_type": "code",
   "execution_count": null,
   "id": "73f5136f-2404-486b-bf42-9b09f331e607",
   "metadata": {},
   "outputs": [],
   "source": [
    "import os\n",
    "from PyPDF2 import PdfFileReader, PdfFileWriter, PdfReader, PdfWriter\n",
    "from wand.image import Image\n",
    "\n",
    "input_dir = '' # ex: C:/Users/PDF_Separados\n",
    "output_dir = '' # ex: C:/Users/TIFF_Convertidos\n",
    "\n",
    "# percorre todos os arquivos PDF no diretório de entrada\n",
    "for filename in os.listdir(input_dir):\n",
    "    if filename.endswith('.pdf'):\n",
    "        input_path = os.path.join(input_dir, filename)\n",
    "        output_prefix = os.path.splitext(filename)[0]\n",
    "        with open(input_path, 'rb') as input_file:\n",
    "            pdf = PdfReader(input_file)\n",
    "            for page_num in range(len(pdf.pages)):\n",
    "                # separa a página em um novo arquivo PDF\n",
    "                output_pdf_path = os.path.join(output_dir, f'{output_prefix}_page{page_num+1}.pdf')\n",
    "                with open(output_pdf_path, 'wb') as output_pdf_file:\n",
    "                    pdf_writer = PdfWriter()\n",
    "                    pdf_writer.add_page(pdf.pages[page_num])\n",
    "                    pdf_writer.write(output_pdf_file)\n",
    "                # converte o arquivo PDF separado em TIFF com 300 DPI de resolução com Group 4 \n",
    "                # melhora o contraste da imagem TIFF\n",
    "                with Image(filename=output_pdf_path, resolution=300) as img:\n",
    "                    #padrao black=0.80, white=0.95, gamma=1.0 \n",
    "                    img.level(black=0.80, white=0.95, gamma=1.0)\n",
    "                    img.compression = 'group4'\n",
    "                    output_tiff_path = os.path.join(output_dir, f'{output_prefix}_page{page_num+1}.tiff')\n",
    "                    img.save(filename=output_tiff_path)\n",
    "                # exclui o arquivo PDF separado\n",
    "                os.remove(output_pdf_path)\n",
    "                print(filename, \" - TIFF convertido com sucesso\")\n"
   ]
  },
  {
   "cell_type": "code",
   "execution_count": null,
   "id": "6bb9f2e6-d837-4042-82fe-e1f3d5cefd68",
   "metadata": {},
   "outputs": [],
   "source": []
  }
 ],
 "metadata": {
  "kernelspec": {
   "display_name": "Python 3 (ipykernel)",
   "language": "python",
   "name": "python3"
  },
  "language_info": {
   "codemirror_mode": {
    "name": "ipython",
    "version": 3
   },
   "file_extension": ".py",
   "mimetype": "text/x-python",
   "name": "python",
   "nbconvert_exporter": "python",
   "pygments_lexer": "ipython3",
   "version": "3.10.9"
  }
 },
 "nbformat": 4,
 "nbformat_minor": 5
}
